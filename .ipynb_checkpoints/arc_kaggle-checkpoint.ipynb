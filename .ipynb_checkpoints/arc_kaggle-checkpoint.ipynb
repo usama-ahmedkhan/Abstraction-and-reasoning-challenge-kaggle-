{
 "cells": [
  {
   "cell_type": "code",
   "execution_count": 31,
   "metadata": {},
   "outputs": [],
   "source": [
    "import numpy as np\n",
    "import pandas as pd\n",
    "\n",
    "import os\n",
    "import json\n",
    "\n",
    "from pathlib import Path\n",
    "\n",
    "import matplotlib.pyplot as plt\n",
    "from matplotlib import colors\n",
    "\n",
    "\n",
    "\n",
    "\n"
   ]
  },
  {
   "cell_type": "code",
   "execution_count": 42,
   "metadata": {},
   "outputs": [
    {
     "name": "stdout",
     "output_type": "stream",
     "text": [
      "abstraction-and-reasoning-challenge/\n",
      "abstraction-and-reasoning-challenge/training\n",
      "abstraction-and-reasoning-challenge/evaluation\n",
      "abstraction-and-reasoning-challenge/test\n"
     ]
    }
   ],
   "source": [
    "\n",
    "for dirname, _, filenames in os.walk('arc_datasets/'):\n",
    "    print (dirname)\n",
    "    \n",
    "data_path=Path('arc_datasets/')\n",
    "\n",
    "training_path=data_path/'training'\n",
    "evaluation_path=data_path/'evaluation'\n",
    "test_path=data_path/'test'\n",
    "\n",
    "\n",
    "    "
   ]
  },
  {
   "cell_type": "code",
   "execution_count": 43,
   "metadata": {},
   "outputs": [
    {
     "name": "stdout",
     "output_type": "stream",
     "text": [
      "['007bbfb7.json', '00d62c1b.json', '017c7c7b.json']\n"
     ]
    }
   ],
   "source": [
    "training_tasks=sorted(os.listdir(training_path))\n",
    "print(training_tasks[:3])                         # first three tasks from 400 json tasks\n",
    "                                                  # in each task there are 2 dictionary keys train and test\n",
    "    \n",
    "\n"
   ]
  },
  {
   "cell_type": "code",
   "execution_count": 54,
   "metadata": {},
   "outputs": [
    {
     "name": "stdout",
     "output_type": "stream",
     "text": [
      "dict_keys(['train', 'test'])\n"
     ]
    }
   ],
   "source": [
    "taskfile=str(training_path/'00d62c1b.json')         \n",
    "\n",
    "with open(taskfile,'r') as f:\n",
    "    task=json.load(f)\n",
    "    \n",
    "print (task.keys())\n",
    "\n",
    "\n",
    "\n"
   ]
  },
  {
   "cell_type": "code",
   "execution_count": 46,
   "metadata": {},
   "outputs": [
    {
     "name": "stdout",
     "output_type": "stream",
     "text": [
      "task contains 5 training pairs\n",
      "task contains 1 test pairs\n"
     ]
    }
   ],
   "source": [
    "n_train_pairs=len(task['train'])\n",
    "n_test_pairs=len(task['test'])\n",
    "\n",
    "print (f'task contains {n_train_pairs} training pairs')\n",
    "print (f'task contains {n_test_pairs} test pairs')\n",
    "\n"
   ]
  },
  {
   "cell_type": "code",
   "execution_count": 47,
   "metadata": {},
   "outputs": [
    {
     "data": {
      "text/plain": [
       "[[0, 0, 0, 0, 0, 0],\n",
       " [0, 0, 3, 0, 0, 0],\n",
       " [0, 3, 0, 3, 0, 0],\n",
       " [0, 0, 3, 0, 3, 0],\n",
       " [0, 0, 0, 3, 0, 0],\n",
       " [0, 0, 0, 0, 0, 0]]"
      ]
     },
     "metadata": {},
     "output_type": "display_data"
    },
    {
     "data": {
      "text/plain": [
       "[[0, 0, 0, 0, 0, 0],\n",
       " [0, 0, 3, 0, 0, 0],\n",
       " [0, 3, 4, 3, 0, 0],\n",
       " [0, 0, 3, 4, 3, 0],\n",
       " [0, 0, 0, 3, 0, 0],\n",
       " [0, 0, 0, 0, 0, 0]]"
      ]
     },
     "metadata": {},
     "output_type": "display_data"
    }
   ],
   "source": [
    "display(task['train'][0]['input'])\n",
    "display(task['train'][0]['output'])\n",
    "\n",
    "\n",
    "\n"
   ]
  },
  {
   "cell_type": "code",
   "execution_count": 58,
   "metadata": {},
   "outputs": [],
   "source": [
    "def plot_task(task):\n",
    "    \"\"\"\n",
    "    Plots the first train and test pairs of a specified task,\n",
    "    using same color scheme as the ARC app\n",
    "    \"\"\"\n",
    "    cmap = colors.ListedColormap(\n",
    "        ['#000000', '#0074D9','#FF4136','#2ECC40','#FFDC00',\n",
    "         '#AAAAAA', '#F012BE', '#FF851B', '#7FDBFF', '#870C25'])\n",
    "    norm = colors.Normalize(vmin=0, vmax=9)\n",
    "    fig, axs = plt.subplots(1, 4, figsize=(10,10))\n",
    "    axs[0].imshow(task['train'][0]['input'], cmap=cmap, norm=norm)\n",
    "    axs[0].axis('off')\n",
    "    axs[0].set_title('Train Input')\n",
    "    axs[1].imshow(task['train'][0]['output'], cmap=cmap, norm=norm)\n",
    "    axs[1].axis('off')\n",
    "    axs[1].set_title('Train Output')\n",
    "    axs[2].imshow(task['test'][0]['input'], cmap=cmap, norm=norm)\n",
    "    axs[2].axis('off')\n",
    "    axs[2].set_title('Test Input')\n",
    "    axs[3].imshow(task['test'][0]['output'], cmap=cmap, norm=norm)\n",
    "    axs[3].axis('off')\n",
    "    axs[3].set_title('Test Output')\n",
    "    plt.tight_layout()\n",
    "    plt.show()\n",
    "\n",
    "\n",
    "\n",
    "\n",
    "\n",
    "\n",
    "\n",
    "\n",
    "\n",
    "\n"
   ]
  },
  {
   "cell_type": "code",
   "execution_count": 59,
   "metadata": {},
   "outputs": [
    {
     "data": {
      "image/png": "[encoded data removed]",
      "text/plain": [
       "<Figure size 720x720 with 4 Axes>"
      ]
     },
     "metadata": {
      "needs_background": "light"
     },
     "output_type": "display_data"
    }
   ],
   "source": [
    "plot_task(task)\n",
    "\n"
   ]
  },
  {
   "cell_type": "code",
   "execution_count": 60,
   "metadata": {},
   "outputs": [
    {
     "data": {
      "text/html": [
       "<div>\n",
       "<style scoped>\n",
       "    .dataframe tbody tr th:only-of-type {\n",
       "        vertical-align: middle;\n",
       "    }\n",
       "\n",
       "    .dataframe tbody tr th {\n",
       "        vertical-align: top;\n",
       "    }\n",
       "\n",
       "    .dataframe thead th {\n",
       "        text-align: right;\n",
       "    }\n",
       "</style>\n",
       "<table border=\"1\" class=\"dataframe\">\n",
       "  <thead>\n",
       "    <tr style=\"text-align: right;\">\n",
       "      <th></th>\n",
       "      <th>output</th>\n",
       "    </tr>\n",
       "    <tr>\n",
       "      <th>output_id</th>\n",
       "      <th></th>\n",
       "    </tr>\n",
       "  </thead>\n",
       "  <tbody>\n",
       "    <tr>\n",
       "      <th>00576224_0</th>\n",
       "      <td>|32|78| |32|78| |00|00|</td>\n",
       "    </tr>\n",
       "    <tr>\n",
       "      <th>009d5c81_0</th>\n",
       "      <td>|00000000000000|00000888888888|00000800080808|...</td>\n",
       "    </tr>\n",
       "    <tr>\n",
       "      <th>00dbd492_0</th>\n",
       "      <td>|00000000000222220000|02222222220200020000|020...</td>\n",
       "    </tr>\n",
       "    <tr>\n",
       "      <th>03560426_0</th>\n",
       "      <td>|0000000000|0000000000|0000000000|0000000000|0...</td>\n",
       "    </tr>\n",
       "    <tr>\n",
       "      <th>05a7bcf2_0</th>\n",
       "      <td>|000000000020000000080000000000|00000000002220...</td>\n",
       "    </tr>\n",
       "  </tbody>\n",
       "</table>\n",
       "</div>"
      ],
      "text/plain": [
       "                                                       output\n",
       "output_id                                                    \n",
       "00576224_0                           |32|78| |32|78| |00|00| \n",
       "009d5c81_0  |00000000000000|00000888888888|00000800080808|...\n",
       "00dbd492_0  |00000000000222220000|02222222220200020000|020...\n",
       "03560426_0  |0000000000|0000000000|0000000000|0000000000|0...\n",
       "05a7bcf2_0  |000000000020000000080000000000|00000000002220..."
      ]
     },
     "metadata": {},
     "output_type": "display_data"
    }
   ],
   "source": [
    "submission=pd.read_csv(data_path/'sample_submission.csv', index_col=\"output_id\" )\n",
    "display(submission.head())\n",
    "\n",
    "\n"
   ]
  },
  {
   "cell_type": "code",
   "execution_count": 61,
   "metadata": {},
   "outputs": [],
   "source": [
    "def flattner(pred):\n",
    "    str_pred=str([row for row in pred])\n",
    "    str_pred = str_pred.replace(', ', '')\n",
    "    str_pred = str_pred.replace('[[', '|')\n",
    "    str_pred = str_pred.replace('][', '|')\n",
    "    str_pred = str_pred.replace(']]', '|')\n",
    "    return str_pred\n",
    "        "
   ]
  },
  {
   "cell_type": "code",
   "execution_count": 62,
   "metadata": {},
   "outputs": [
    {
     "data": {
      "text/plain": [
       "[[1, 2, 3], [6, 7, 8], [3, 4, 9]]"
      ]
     },
     "metadata": {},
     "output_type": "display_data"
    },
    {
     "name": "stdout",
     "output_type": "stream",
     "text": [
      "|123|678|349|\n"
     ]
    }
   ],
   "source": [
    "example_grid=[[1,2,3],[6,7,8],[3,4,9]]\n",
    "display(example_grid)\n",
    "\n",
    "print (flattner(example_grid))\n",
    "\n"
   ]
  },
  {
   "cell_type": "code",
   "execution_count": 66,
   "metadata": {},
   "outputs": [],
   "source": [
    "for output_id in submission.index:\n",
    "    task_id = output_id.split('_')[0]\n",
    "    pair_id = int(output_id.split('_')[1])\n",
    "    f = str(test_path / str(task_id + '.json'))\n",
    "    with open(f, 'r') as read_file:\n",
    "        task = json.load(read_file)\n",
    "    # skipping over the training examples, since this will be naive predictions\n",
    "    # we will use the test input grid as the base, and make some modifications\n",
    "    data = task['test'][pair_id]['input'] # test pair input\n",
    "    # for the first guess, predict that output is unchanged\n",
    "    pred_1 = flattner(data)\n",
    "    # for the second guess, change all 0s to 5s\n",
    "    data = [[5 if i==0 else i for i in j] for j in data]\n",
    "    pred_2 = flattner(data)\n",
    "    # for the last gues, change everything to 0\n",
    "    data = [[0 for i in j] for j in data]\n",
    "    pred_3 = flattner(data)\n",
    "    # concatenate and add to the submission output\n",
    "    pred = pred_1 + ' ' + pred_2 + ' ' + pred_3 + ' ' \n",
    "    submission.loc[output_id, 'output'] = pred\n",
    "\n",
    "submission.to_csv('submission.csv')"
   ]
  },
  {
   "cell_type": "code",
   "execution_count": null,
   "metadata": {},
   "outputs": [],
   "source": [
    "\n",
    "\n",
    "\n",
    "\n",
    "\n",
    "\n",
    "\n",
    "\n",
    "\n"
   ]
  },
  {
   "cell_type": "code",
   "execution_count": null,
   "metadata": {},
   "outputs": [],
   "source": []
  },
  {
   "cell_type": "code",
   "execution_count": null,
   "metadata": {},
   "outputs": [],
   "source": []
  },
  {
   "cell_type": "code",
   "execution_count": null,
   "metadata": {},
   "outputs": [],
   "source": []
  },
  {
   "cell_type": "code",
   "execution_count": null,
   "metadata": {},
   "outputs": [],
   "source": []
  },
  {
   "cell_type": "code",
   "execution_count": null,
   "metadata": {},
   "outputs": [],
   "source": []
  },
  {
   "cell_type": "code",
   "execution_count": null,
   "metadata": {},
   "outputs": [],
   "source": [
    "# correct prediction format \n",
    "\n",
    "\n",
    "\n",
    "\n"
   ]
  }
 ],
 "metadata": {
  "kernelspec": {
   "display_name": "Python 3",
   "language": "python",
   "name": "python3"
  },
  "language_info": {
   "codemirror_mode": {
    "name": "ipython",
    "version": 3
   },
   "file_extension": ".py",
   "mimetype": "text/x-python",
   "name": "python",
   "nbconvert_exporter": "python",
   "pygments_lexer": "ipython3",
   "version": "3.7.3"
  }
 },
 "nbformat": 4,
 "nbformat_minor": 2
}
